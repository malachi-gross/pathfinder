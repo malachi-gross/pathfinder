{
 "cells": [
  {
   "cell_type": "code",
   "execution_count": null,
   "id": "cb9e1f52",
   "metadata": {},
   "outputs": [
    {
     "name": "stdout",
     "output_type": "stream",
     "text": [
      "✅ Saved to requisites.json\n"
     ]
    }
   ],
   "source": [
    "import requests\n",
    "from bs4 import BeautifulSoup\n",
    "from urllib.parse import urljoin\n",
    "import json\n",
    "\n",
    "BASE_URL = \"https://catalog.unc.edu\"\n",
    "DEPT_CODES = [\"COMP\", \"BIOL\"]\n",
    "DEPT_URLS = [f\"{BASE_URL}/courses/{code.lower()}/\" for code in DEPT_CODES]\n",
    "\n",
    "def extract_requisites_from_department(dept_url):\n",
    "    response = requests.get(dept_url)\n",
    "    soup = BeautifulSoup(response.text, \"html.parser\")\n",
    "    course_blocks = soup.find_all(\"div\", class_=\"courseblock\")\n",
    "\n",
    "    course_reqs = {}\n",
    "\n",
    "    for block in course_blocks:\n",
    "        header = block.find(\"div\", class_=\"cols noindent\")\n",
    "        strong_tags = header.find_all(\"strong\") if header else []\n",
    "\n",
    "        if len(strong_tags) >= 1:\n",
    "            code = strong_tags[0].text.strip().rstrip(\".\")\n",
    "            if \" \" not in code:\n",
    "                continue\n",
    "            course_id = code\n",
    "\n",
    "            # Find the requisites block\n",
    "            req_span = block.find(\"span\", class_=\"text detail-requisites margin--default\")\n",
    "            if req_span:\n",
    "                req_text = req_span.text.strip()\n",
    "                course_reqs[course_id] = req_text\n",
    "\n",
    "    return course_reqs\n",
    "\n",
    "# Extract requisites\n",
    "all_reqs = {}\n",
    "for url in DEPT_URLS:\n",
    "    dept_reqs = extract_requisites_from_department(url)\n",
    "    all_reqs.update(dept_reqs)\n",
    "\n",
    "# Save to JSON\n",
    "with open(\"output/requisites.json\", \"w\", encoding=\"utf-8\") as f:\n",
    "    json.dump(all_reqs, f, indent=2, ensure_ascii=False)\n",
    "\n",
    "print(\"✅ Saved to requisites.json\")\n"
   ]
  }
 ],
 "metadata": {
  "kernelspec": {
   "display_name": "pathfinder",
   "language": "python",
   "name": "python3"
  },
  "language_info": {
   "codemirror_mode": {
    "name": "ipython",
    "version": 3
   },
   "file_extension": ".py",
   "mimetype": "text/x-python",
   "name": "python",
   "nbconvert_exporter": "python",
   "pygments_lexer": "ipython3",
   "version": "3.13.5"
  }
 },
 "nbformat": 4,
 "nbformat_minor": 5
}
