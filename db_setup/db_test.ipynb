{
 "cells": [
  {
   "cell_type": "code",
   "execution_count": 1,
   "id": "840c3a49",
   "metadata": {},
   "outputs": [
    {
     "name": "stdout",
     "output_type": "stream",
     "text": [
      "Connection successful!\n"
     ]
    }
   ],
   "source": [
    "import os\n",
    "import psycopg2\n",
    "from urllib.parse import urlparse\n",
    "\n",
    "database_url = os.getenv('DATABASE_URL')\n",
    "url = urlparse(database_url)\n",
    "\n",
    "conn_params = {\n",
    "    \"host\": url.hostname,\n",
    "    \"port\": url.port,\n",
    "    \"database\": url.path[1:],\n",
    "    \"user\": url.username,\n",
    "    \"password\": url.password,\n",
    "    \"sslmode\": \"require\",\n",
    "    \"gssencmode\": \"disable\"\n",
    "}\n",
    "\n",
    "try:\n",
    "    conn = psycopg2.connect(**conn_params)\n",
    "    print(\"Connection successful!\")\n",
    "    conn.close()\n",
    "except Exception as e:\n",
    "    print(\"Connection failed:\", e)"
   ]
  }
 ],
 "metadata": {
  "kernelspec": {
   "display_name": "pathfinder",
   "language": "python",
   "name": "python3"
  },
  "language_info": {
   "codemirror_mode": {
    "name": "ipython",
    "version": 3
   },
   "file_extension": ".py",
   "mimetype": "text/x-python",
   "name": "python",
   "nbconvert_exporter": "python",
   "pygments_lexer": "ipython3",
   "version": "3.13.5"
  }
 },
 "nbformat": 4,
 "nbformat_minor": 5
}
